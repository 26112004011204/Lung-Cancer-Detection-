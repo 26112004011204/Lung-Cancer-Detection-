{
 "cells": [
  {
   "cell_type": "markdown",
   "id": "6076057a",
   "metadata": {},
   "source": [
    "Importing Libraries"
   ]
  },
  {
   "cell_type": "code",
   "execution_count": null,
   "id": "c9bef8b6",
   "metadata": {},
   "outputs": [
    {
     "ename": "",
     "evalue": "",
     "output_type": "error",
     "traceback": [
      "\u001b[1;31mRunning cells with 'Python 3.13.1' requires the ipykernel package.\n",
      "\u001b[1;31m<a href='command:jupyter.createPythonEnvAndSelectController'>Create a Python Environment</a> with the required packages.\n",
      "\u001b[1;31mOr install 'ipykernel' using the command: '\"c:/Users/Reet Varshney/AppData/Local/Programs/Python/Python313/python3.13t.exe\" -m pip install ipykernel -U --user --force-reinstall'"
     ]
    }
   ],
   "source": [
    "import matplotlib.pyplot as plt\n",
    "import seaborn as sns\n",
    "import pandas as pd\n",
    "import numpy as np\n",
    "\n",
    "from sklearn.model_selection import train_test_split\n",
    "from sklearn.linear_model import LogisticRegression\n",
    "from sklearn.ensemble import RandomForestClassifier\n",
    "from sklearn.naive_bayes import GaussianNB\n",
    "from sklearn.neighbors import KNeighborsClassifier\n",
    "from sklearn.svm import SVC\n",
    "from sklearn.tree import plot_tree\n",
    "from sklearn.decomposition import PCA\n",
    "\n",
    "from sklearn.metrics import (\n",
    "    confusion_matrix, classification_report, accuracy_score,\n",
    "    precision_score, recall_score, f1_score, roc_curve, auc\n",
    ")"
   ]
  },
  {
   "cell_type": "markdown",
   "id": "7189de8b",
   "metadata": {},
   "source": [
    "Loading Dataset"
   ]
  },
  {
   "cell_type": "code",
   "execution_count": null,
   "id": "54dd6254",
   "metadata": {},
   "outputs": [],
   "source": [
    "df = pd.read_csv(\"LungCancer.csv\")\n",
    "df.columns = df.columns.str.strip().str.lower().str.replace(\" \", \"_\")\n",
    "df[\"gender\"] = df[\"gender\"].map({'M': 1, 'F': 0})\n",
    "df[\"lung_cancer\"] = df[\"lung_cancer\"].map({'YES': 1, 'NO': 0})"
   ]
  },
  {
   "cell_type": "markdown",
   "id": "8536d806",
   "metadata": {},
   "source": [
    "EDA"
   ]
  },
  {
   "cell_type": "code",
   "execution_count": null,
   "id": "dce9034f",
   "metadata": {},
   "outputs": [],
   "source": [
    "plt.figure(figsize=(12, 5))\n",
    "plt.subplot(1, 2, 1)\n",
    "sns.countplot(data=df, x=\"gender\")\n",
    "plt.title(\"Gender Distribution\")\n",
    "\n",
    "plt.subplot(1, 2, 2)\n",
    "sns.countplot(data=df, x=\"lung_cancer\")\n",
    "plt.title(\"Lung Cancer Class Distribution\")\n",
    "plt.tight_layout()\n",
    "plt.show()\n",
    "\n",
    "print(\"Class distribution:\\n\", df[\"lung_cancer\"].value_counts())"
   ]
  },
  {
   "cell_type": "markdown",
   "id": "a2c86dd6",
   "metadata": {},
   "source": [
    "Feature Engineering"
   ]
  },
  {
   "cell_type": "code",
   "execution_count": null,
   "id": "93c2e7f6",
   "metadata": {},
   "outputs": [],
   "source": [
    "X = df.drop(columns=\"lung_cancer\")\n",
    "y = df[\"lung_cancer\"]\n",
    "X_train, X_test, y_train, y_test = train_test_split(X, y, test_size=0.3, random_state=40)\n",
    "\n",
    "print(f\"Train/Test sizes: {X_train.shape}, {X_test.shape}\")\n",
    "\n",
    "# Correlation Heatmap\n",
    "plt.figure(figsize=(14, 10))\n",
    "sns.heatmap(df.corr(), annot=True, cmap=\"coolwarm\")\n",
    "plt.title(\"Feature Correlation Heatmap\")\n",
    "plt.show()\n"
   ]
  },
  {
   "cell_type": "markdown",
   "id": "bdefc3d4",
   "metadata": {},
   "source": [
    "Helper Function"
   ]
  },
  {
   "cell_type": "code",
   "execution_count": null,
   "id": "103296f2",
   "metadata": {},
   "outputs": [],
   "source": [
    "def compute_metrics(y_test, y_pred):\n",
    "    return {\n",
    "        \"Accuracy\": accuracy_score(y_test, y_pred),\n",
    "        \"Precision\": precision_score(y_test, y_pred),\n",
    "        \"Recall\": recall_score(y_test, y_pred),\n",
    "        \"F1 Score\": f1_score(y_test, y_pred)\n",
    "    }\n"
   ]
  },
  {
   "cell_type": "markdown",
   "id": "aa779f21",
   "metadata": {},
   "source": [
    "Initializing Dictionaries"
   ]
  },
  {
   "cell_type": "code",
   "execution_count": null,
   "id": "becbfbd2",
   "metadata": {},
   "outputs": [],
   "source": [
    "ml_metrics = {}\n",
    "fpr_dict = {}\n",
    "tpr_dict = {}\n",
    "roc_auc_dict = {}\n"
   ]
  },
  {
   "cell_type": "markdown",
   "id": "ba474376",
   "metadata": {},
   "source": [
    "Logistic Regression"
   ]
  },
  {
   "cell_type": "code",
   "execution_count": null,
   "id": "b8377155",
   "metadata": {},
   "outputs": [],
   "source": [
    "lr = LogisticRegression(max_iter=1000)\n",
    "lr.fit(X_train, y_train)\n",
    "lr_pred = lr.predict(X_test)\n",
    "lr_prob = lr.predict_proba(X_test)[:, 1]\n",
    "lr_metrics = compute_metrics(y_test, lr_pred)\n",
    "ml_metrics[\"Logistic Regression\"] = lr_metrics\n",
    "fpr_dict[\"Logistic Regression\"], tpr_dict[\"Logistic Regression\"], _ = roc_curve(y_test, lr_prob)\n",
    "roc_auc_dict[\"Logistic Regression\"] = auc(fpr_dict[\"Logistic Regression\"], tpr_dict[\"Logistic Regression\"])\n",
    "\n",
    "print(\"\\n--- Logistic Regression ---\")\n",
    "print(classification_report(y_test, lr_pred))"
   ]
  },
  {
   "cell_type": "markdown",
   "id": "4f50aa4e",
   "metadata": {},
   "source": [
    "ROC Curve for Logistic Regression"
   ]
  },
  {
   "cell_type": "code",
   "execution_count": null,
   "id": "7dec9e51",
   "metadata": {},
   "outputs": [],
   "source": [
    "plt.figure(figsize=(6, 4))\n",
    "plt.plot(fpr_dict[\"Logistic Regression\"], tpr_dict[\"Logistic Regression\"],\n",
    "         color='darkorange', lw=2, label=f\"ROC curve (AUC = {roc_auc_dict['Logistic Regression']:.2f})\")\n",
    "plt.plot([0, 1], [0, 1], color='navy', lw=2, linestyle=\"--\")\n",
    "plt.xlabel(\"False Positive Rate\")\n",
    "plt.ylabel(\"True Positive Rate\")\n",
    "plt.title(\"ROC Curve - Logistic Regression\")\n",
    "plt.legend(loc=\"lower right\")\n",
    "plt.grid(True)\n",
    "plt.tight_layout()\n",
    "plt.show()\n"
   ]
  },
  {
   "cell_type": "markdown",
   "id": "4df96d30",
   "metadata": {},
   "source": [
    "Actual vs Predicted"
   ]
  },
  {
   "cell_type": "code",
   "execution_count": null,
   "id": "609f0d7c",
   "metadata": {},
   "outputs": [],
   "source": [
    "plt.figure(figsize=(10, 4))\n",
    "plt.plot(range(len(y_test)), list(y_test), label=\"Actual\", linestyle='--', color='blue', alpha=0.7)\n",
    "plt.plot(range(len(y_test)), list(lr_pred), label=\"Predicted\", linestyle='-', color='red', alpha=0.7)\n",
    "plt.title(\"Logistic Regression - Actual vs Predicted\")\n",
    "plt.xlabel(\"Sample Index\")\n",
    "plt.ylabel(\"Class\")\n",
    "plt.legend()\n",
    "plt.tight_layout()\n",
    "plt.show()"
   ]
  },
  {
   "cell_type": "markdown",
   "id": "492c4b71",
   "metadata": {},
   "source": [
    "Random Forest Classifier"
   ]
  },
  {
   "cell_type": "code",
   "execution_count": null,
   "id": "9a96ebf8",
   "metadata": {},
   "outputs": [],
   "source": [
    "rf = RandomForestClassifier(n_estimators=100, random_state=40)\n",
    "rf.fit(X_train, y_train)\n",
    "rf_pred = rf.predict(X_test)\n",
    "rf_prob = rf.predict_proba(X_test)[:, 1]\n",
    "rf_metrics = compute_metrics(y_test, rf_pred)\n",
    "ml_metrics[\"Random Forest\"] = rf_metrics\n",
    "fpr_dict[\"Random Forest\"], tpr_dict[\"Random Forest\"], _ = roc_curve(y_test, rf_prob)\n",
    "roc_auc_dict[\"Random Forest\"] = auc(fpr_dict[\"Random Forest\"], tpr_dict[\"Random Forest\"])\n",
    "print(\"\\n--- Random Forest ---\")\n",
    "print(classification_report(y_test, rf_pred))"
   ]
  },
  {
   "cell_type": "markdown",
   "id": "f127a682",
   "metadata": {},
   "source": [
    "Decision Tree "
   ]
  },
  {
   "cell_type": "code",
   "execution_count": null,
   "id": "8ea2178f",
   "metadata": {},
   "outputs": [],
   "source": [
    "plt.figure(figsize=(20, 10))\n",
    "plot_tree(rf.estimators_[0], filled=True, feature_names=X.columns, class_names=['No', 'Yes'], rounded=True, fontsize=10)\n",
    "plt.title(\"Random Forest Classifier - Decision Tree Visualization\")\n",
    "plt.show()"
   ]
  },
  {
   "cell_type": "markdown",
   "id": "eee56004",
   "metadata": {},
   "source": [
    "Naive Bayes"
   ]
  },
  {
   "cell_type": "code",
   "execution_count": null,
   "id": "d572f064",
   "metadata": {},
   "outputs": [],
   "source": [
    "nb = GaussianNB()\n",
    "nb.fit(X_train, y_train)\n",
    "nb_pred = nb.predict(X_test)\n",
    "nb_prob = nb.predict_proba(X_test)[:, 1]\n",
    "nb_metrics = compute_metrics(y_test, nb_pred)\n",
    "ml_metrics[\"Naive Bayes\"] = nb_metrics\n",
    "fpr_dict[\"Naive Bayes\"], tpr_dict[\"Naive Bayes\"], _ = roc_curve(y_test, nb_prob)\n",
    "roc_auc_dict[\"Naive Bayes\"] = auc(fpr_dict[\"Naive Bayes\"], tpr_dict[\"Naive Bayes\"])\n",
    "print(\"\\n--- Naive Bayes ---\")\n",
    "print(classification_report(y_test, nb_pred))"
   ]
  },
  {
   "cell_type": "markdown",
   "id": "60bd711d",
   "metadata": {},
   "source": [
    "KNN "
   ]
  },
  {
   "cell_type": "code",
   "execution_count": null,
   "id": "cdb5c869",
   "metadata": {},
   "outputs": [],
   "source": [
    "knn = KNeighborsClassifier(n_neighbors=3, weights='distance')\n",
    "knn.fit(X_train, y_train)\n",
    "knn_pred = knn.predict(X_test)\n",
    "knn_prob = knn.predict_proba(X_test)[:, 1]\n",
    "knn_metrics = compute_metrics(y_test, knn_pred)\n",
    "ml_metrics[\"KNN\"] = knn_metrics\n",
    "fpr_dict[\"KNN\"], tpr_dict[\"KNN\"], _ = roc_curve(y_test, knn_prob)\n",
    "roc_auc_dict[\"KNN\"] = auc(fpr_dict[\"KNN\"], tpr_dict[\"KNN\"])\n",
    "print(\"\\n--- KNN ---\")\n",
    "print(classification_report(y_test, knn_pred))"
   ]
  },
  {
   "cell_type": "markdown",
   "id": "0f01ae9b",
   "metadata": {},
   "source": [
    "KNN Visualization using PCA"
   ]
  },
  {
   "cell_type": "code",
   "execution_count": null,
   "id": "d7f548f8",
   "metadata": {},
   "outputs": [],
   "source": [
    "pca = PCA(n_components=2)\n",
    "X_pca = pca.fit_transform(X)\n",
    "\n",
    "plt.figure(figsize=(8, 5))\n",
    "plt.scatter(X_pca[:, 0], X_pca[:, 1], c=y, cmap='coolwarm', edgecolor='k', alpha=0.7)\n",
    "plt.title(\"KNN - PCA Visualization of Classes\")\n",
    "plt.xlabel(\"PCA 1\")\n",
    "plt.ylabel(\"PCA 2\")\n",
    "plt.grid(True)\n",
    "plt.colorbar(label='Lung Cancer (0=No, 1=Yes)')\n",
    "plt.tight_layout()\n",
    "plt.show()"
   ]
  },
  {
   "cell_type": "markdown",
   "id": "6901dad5",
   "metadata": {},
   "source": [
    "Support Vector Machine Classifier"
   ]
  },
  {
   "cell_type": "code",
   "execution_count": null,
   "id": "043d1600",
   "metadata": {},
   "outputs": [],
   "source": [
    "svm = SVC(kernel='linear', C=0.5, probability=True)\n",
    "svm.fit(X_train, y_train)\n",
    "svm_pred = svm.predict(X_test)\n",
    "svm_prob = svm.predict_proba(X_test)[:, 1]\n",
    "svm_metrics = compute_metrics(y_test, svm_pred)\n",
    "ml_metrics[\"SVM\"] = svm_metrics\n",
    "fpr_dict[\"SVM\"], tpr_dict[\"SVM\"], _ = roc_curve(y_test, svm_prob)\n",
    "roc_auc_dict[\"SVM\"] = auc(fpr_dict[\"SVM\"], tpr_dict[\"SVM\"])\n",
    "print(\"\\n--- Support Vector Machine ---\")\n",
    "print(classification_report(y_test, svm_pred))\n"
   ]
  },
  {
   "cell_type": "markdown",
   "id": "5bf707d5",
   "metadata": {},
   "source": [
    "Confusion Matrices "
   ]
  },
  {
   "cell_type": "code",
   "execution_count": null,
   "id": "82361889",
   "metadata": {},
   "outputs": [],
   "source": [
    "color_maps = {\n",
    "    'Logistic Regression': 'Blues',\n",
    "    'Random Forest': 'YlOrRd',\n",
    "    'Naive Bayes': 'GnBu',\n",
    "    'KNN': 'PuBu',\n",
    "    'SVM': 'BuGn'\n",
    "}\n",
    "models = {'Logistic Regression': lr, 'Random Forest': rf, 'Naive Bayes': nb, 'KNN': knn, 'SVM': svm}\n",
    "\n",
    "for model_name, model in models.items():\n",
    "    pred = model.predict(X_test)\n",
    "    cm = confusion_matrix(y_test, pred)\n",
    "    plt.figure(figsize=(6, 4))\n",
    "    sns.heatmap(cm, annot=True, fmt='d', cmap=color_maps[model_name], cbar=False,\n",
    "                xticklabels=['No', 'Yes'], yticklabels=['No', 'Yes'])\n",
    "    plt.title(f\"Confusion Matrix - {model_name}\")\n",
    "    plt.xlabel('Predicted')\n",
    "    plt.ylabel('Actual')\n",
    "    plt.show()"
   ]
  }
 ],
 "metadata": {
  "kernelspec": {
   "display_name": "Python 3",
   "language": "python",
   "name": "python3"
  },
  "language_info": {
   "name": "python",
   "version": "3.13.1"
  }
 },
 "nbformat": 4,
 "nbformat_minor": 5
}
